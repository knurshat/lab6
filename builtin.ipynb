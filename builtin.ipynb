{
 "cells": [
  {
   "cell_type": "code",
   "execution_count": 3,
   "metadata": {},
   "outputs": [
    {
     "name": "stdout",
     "output_type": "stream",
     "text": [
      "120\n",
      "720\n"
     ]
    }
   ],
   "source": [
    "#task 1\n",
    "from functools import reduce, partial\n",
    "import math\n",
    "p = [2,3,4,5]\n",
    "n = reduce(lambda x, y: x*y, p)\n",
    "print(n)\n",
    "\n",
    "\n",
    "i = list(map(int, input(). split()))\n",
    "print(math.prod(i))"
   ]
  },
  {
   "cell_type": "code",
   "execution_count": 5,
   "metadata": {},
   "outputs": [
    {
     "name": "stdout",
     "output_type": "stream",
     "text": [
      "11\n",
      "5\n",
      "10\n",
      "1\n"
     ]
    }
   ],
   "source": [
    "#task 2\n",
    "from functools import reduce\n",
    "\n",
    "n = \"YouareMyFIIiiire\"\n",
    "lc = reduce(lambda count, char: count + (1 if char.islower() else 0), n, 0)\n",
    "uc = reduce(lambda count, char: count + (1 if char.isupper() else 0), n, 0)\n",
    "print(lc)\n",
    "print(uc)\n",
    "\n",
    "\n",
    "s = input()\n",
    "lc = sum([1 for  i in s if i.islower()])\n",
    "uc = sum([1 for  i in s if i.isupper()])\n",
    "print(lc)\n",
    "print(uc)"
   ]
  },
  {
   "cell_type": "code",
   "execution_count": 6,
   "metadata": {},
   "outputs": [
    {
     "name": "stdout",
     "output_type": "stream",
     "text": [
      "yes\n"
     ]
    }
   ],
   "source": [
    "#task 3\n",
    "s = input()\n",
    "s2 = \"\".join(reversed(s))\n",
    "d = list(map(lambda p, l: p==l, s,s2))\n",
    "print(\"yes\" if all(d) else \"No\")"
   ]
  },
  {
   "cell_type": "code",
   "execution_count": 9,
   "metadata": {},
   "outputs": [
    {
     "name": "stdout",
     "output_type": "stream",
     "text": [
      "Square root of 3 after 1234 miliseconds is 1.7320508075688772\n"
     ]
    }
   ],
   "source": [
    "#task 4\n",
    "import time, math\n",
    "\n",
    "def nn(number, delay):\n",
    "    time.sleep(delay/1000)\n",
    "    return math.sqrt(number)\n",
    "\n",
    "n = int(input())\n",
    "y = int(input())\n",
    "\n",
    "print((f\"Square root of {n} after {y} miliseconds is {nn(n,y)}\"))"
   ]
  },
  {
   "cell_type": "code",
   "execution_count": 10,
   "metadata": {},
   "outputs": [
    {
     "name": "stdout",
     "output_type": "stream",
     "text": [
      "no\n"
     ]
    }
   ],
   "source": [
    "#task 5\n",
    "n = (True, False, True, False)\n",
    "print(\"yes\" if all(n) else \"no\")"
   ]
  }
 ],
 "metadata": {
  "kernelspec": {
   "display_name": "Python 3",
   "language": "python",
   "name": "python3"
  },
  "language_info": {
   "codemirror_mode": {
    "name": "ipython",
    "version": 3
   },
   "file_extension": ".py",
   "mimetype": "text/x-python",
   "name": "python",
   "nbconvert_exporter": "python",
   "pygments_lexer": "ipython3",
   "version": "3.13.2"
  }
 },
 "nbformat": 4,
 "nbformat_minor": 2
}
