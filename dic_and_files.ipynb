{
 "cells": [
  {
   "cell_type": "code",
   "execution_count": 3,
   "metadata": {},
   "outputs": [
    {
     "name": "stdout",
     "output_type": "stream",
     "text": [
      "Directories:\n",
      ".git\n",
      "\n",
      "Files:\n",
      "builtin.ipynb\n",
      "dic_and_files.ipynb\n",
      "README.md\n",
      "\n",
      "All contents:\n",
      ".git\n",
      "builtin.ipynb\n",
      "dic_and_files.ipynb\n",
      "README.md\n"
     ]
    }
   ],
   "source": [
    "#task 1\n",
    "import os\n",
    "\n",
    "def list_contents(path):\n",
    "    all_items = os.listdir(path)\n",
    "    directories = [item for item in all_items if os.path.isdir(os.path.join(path, item))]\n",
    "    files = [item for item in all_items if os.path.isfile(os.path.join(path, item))]\n",
    "    \n",
    "    print(\"Directories:\")\n",
    "    print(\"\\n\".join(directories) if directories else \"No directories\")\n",
    "    \n",
    "    print(\"\\nFiles:\")\n",
    "    print(\"\\n\".join(files) if files else \"No files\")\n",
    "    \n",
    "    print(\"\\nAll contents:\")\n",
    "    print(\"\\n\".join(all_items) if all_items else \"Empty\")\n",
    "\n",
    "# Specify path\n",
    "path = \".\"\n",
    "list_contents(path)\n",
    "\n"
   ]
  },
  {
   "cell_type": "code",
   "execution_count": 4,
   "metadata": {},
   "outputs": [
    {
     "name": "stdout",
     "output_type": "stream",
     "text": [
      "Checking access for: .\n",
      "\n",
      "Path exists: Yes\n",
      "Readable: Yes\n",
      "Writable: Yes\n",
      "Executable: Yes\n"
     ]
    }
   ],
   "source": [
    "#task 2\n",
    "import os\n",
    "\n",
    "def check_path_access(path):\n",
    "    print(f\"Checking access for: {path}\\n\")\n",
    "    \n",
    "    if os.path.exists(path):\n",
    "        print(\"Path exists: Yes\")\n",
    "        print(f\"Readable: {'Yes' if os.access(path, os.R_OK) else 'No'}\")\n",
    "        print(f\"Writable: {'Yes' if os.access(path, os.W_OK) else 'No'}\")\n",
    "        print(f\"Executable: {'Yes' if os.access(path, os.X_OK) else 'No'}\")\n",
    "    else:\n",
    "        print(\"Path exists: No\")\n",
    "\n",
    "# Specify path\n",
    "path = \".\"\n",
    "check_path_access(path)\n"
   ]
  },
  {
   "cell_type": "code",
   "execution_count": 12,
   "metadata": {},
   "outputs": [
    {
     "name": "stdout",
     "output_type": "stream",
     "text": [
      "Path exists: Yes\n",
      "\n",
      "Absolute Path: c:\\Users\\User\\Desktop\\lab6\n",
      "Directory: c:\\Users\\User\\Desktop\n",
      "Filename: lab6\n"
     ]
    }
   ],
   "source": [
    "#task 3\n",
    "import os\n",
    "path = \".\"\n",
    "def check_path_details(path):\n",
    "    \n",
    "    absolute_path = os.path.abspath(path)\n",
    "    if os.path.exists(absolute_path):\n",
    "        print(f\"Path exists: Yes\\n\")\n",
    "        print(f\"Absolute Path: {absolute_path}\")\n",
    "        print(f\"Directory: {os.path.dirname(absolute_path)}\")\n",
    "        print(f\"Filename: {os.path.basename(absolute_path)}\")\n",
    "    else:\n",
    "        print(\"Path exists: No\")\n",
    "\n",
    "# Check path details\n",
    "check_path_details(path)\n"
   ]
  },
  {
   "cell_type": "code",
   "execution_count": 39,
   "metadata": {},
   "outputs": [
    {
     "name": "stdout",
     "output_type": "stream",
     "text": [
      "Number of lines: 5\n"
     ]
    }
   ],
   "source": [
    "#task 4\n",
    "def count_lines(file_path):\n",
    "    try:\n",
    "        with open(file_path, 'r', encoding='utf-8') as file:\n",
    "            return sum(1 for _ in file)\n",
    "    except FileNotFoundError:\n",
    "        print(\"File not found.\")\n",
    "    except Exception as e:\n",
    "        print(f\"An error occurred: {e}\")\n",
    "\n",
    "file_path = \"fruits.txt\"\n",
    "lines = count_lines(file_path)\n",
    "if lines is not None:\n",
    "    print(f\"Number of lines: {lines}\")"
   ]
  },
  {
   "cell_type": "code",
   "execution_count": 29,
   "metadata": {},
   "outputs": [
    {
     "name": "stdout",
     "output_type": "stream",
     "text": [
      "List written to fruits.txt\n"
     ]
    }
   ],
   "source": [
    "#task 5\n",
    "def write_list_to_file(file_path, data_list):\n",
    "    with open(file_path, 'w', encoding='utf-8') as file:\n",
    "        file.write(\"\\n\".join(data_list))\n",
    "\n",
    "data = [\"Apple\", \"Banana\", \"Cherry\", \"Date\", \"Elderberry\"]\n",
    "file_path = \"fruits.txt\"\n",
    "write_list_to_file(file_path, data)\n",
    "print(f\"List written to {file_path}\")"
   ]
  },
  {
   "cell_type": "code",
   "execution_count": 31,
   "metadata": {},
   "outputs": [
    {
     "name": "stdout",
     "output_type": "stream",
     "text": [
      "files created in the 'alphabet_files' directory\n"
     ]
    }
   ],
   "source": [
    "#task 6\n",
    "import os\n",
    "\n",
    "def generate_alphabet_files(derictory):\n",
    "    os.makedirs(directory, exist_ok = True)\n",
    "    for char in range(65, 91):\n",
    "        file_name = os.path.join(directory, f\"{chr(char)}.txt\")\n",
    "        with open(file_name,'w', encoding= 'utf-8') as file:\n",
    "            file.write(f\"This is file {chr(char)}.txt\\n\")\n",
    "\n",
    "directory = \"alphabet_files\"\n",
    "generate_alphabet_files(directory)\n",
    "print(f\"files created in the '{directory}' directory\")\n"
   ]
  },
  {
   "cell_type": "code",
   "execution_count": 35,
   "metadata": {},
   "outputs": [
    {
     "name": "stdout",
     "output_type": "stream",
     "text": [
      "File 'fruits.txt' copied to 'destination.txt' successfully.\n"
     ]
    }
   ],
   "source": [
    "#task 7\n",
    "import shutil\n",
    "\n",
    "def copy_file(source, destination):\n",
    "    try:\n",
    "        shutil.copy2(source, destination)\n",
    "        print(f\"File '{source}' copied to '{destination}' successfully.\")\n",
    "    except FileNotFoundError:\n",
    "        print(\"Source file not found.\")\n",
    "    except PermissionError:\n",
    "        print(\"Permission denied. Unable to copy file.\")\n",
    "    except Exception as e:\n",
    "        print(f\"An error occurred: {e}\")\n",
    "\n",
    "source_file = \"fruits.txt\"\n",
    "destination_file = \"destination.txt\"\n",
    "copy_file(source_file, destination_file)"
   ]
  },
  {
   "cell_type": "code",
   "execution_count": 37,
   "metadata": {},
   "outputs": [
    {
     "name": "stdout",
     "output_type": "stream",
     "text": [
      "File 'aaa.txt' deleted successfully.\n"
     ]
    }
   ],
   "source": [
    "#task 8\n",
    "def delete_file(file_path):\n",
    "    if os.path.exists(file_path) and os.access(file_path, os.W_OK):\n",
    "        try:\n",
    "            os.remove(file_path)\n",
    "            print(f\"File '{file_path}' deleted successfully.\")\n",
    "        except Exception as e:\n",
    "            print(f\"An error occurred while deleting the file: {e}\")\n",
    "    else:\n",
    "        print(\"File not found or permission denied.\")\n",
    "\n",
    "\n",
    "file_to_delete = \"aaa.txt\"\n",
    "delete_file(file_to_delete)"
   ]
  }
 ],
 "metadata": {
  "kernelspec": {
   "display_name": "Python 3",
   "language": "python",
   "name": "python3"
  },
  "language_info": {
   "codemirror_mode": {
    "name": "ipython",
    "version": 3
   },
   "file_extension": ".py",
   "mimetype": "text/x-python",
   "name": "python",
   "nbconvert_exporter": "python",
   "pygments_lexer": "ipython3",
   "version": "3.13.2"
  }
 },
 "nbformat": 4,
 "nbformat_minor": 2
}
